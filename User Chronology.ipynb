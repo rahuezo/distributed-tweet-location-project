{
 "cells": [
  {
   "cell_type": "code",
   "execution_count": 67,
   "metadata": {},
   "outputs": [],
   "source": [
    "import random\n",
    "from itertools import groupby\n",
    "from operator import itemgetter\n",
    "\n",
    "fips = [(1,36047), (2,29510), (3,6075), (4,6037), (5,29189), (6,48043),\n",
    "        (7,25025), (8,48201), (9,6019), (10,36061)]"
   ]
  },
  {
   "cell_type": "code",
   "execution_count": 89,
   "metadata": {},
   "outputs": [
    {
     "name": "stdout",
     "output_type": "stream",
     "text": [
      "[(1, 36047), (2, 29510), (3, 6075), (4, 6037), (5, 29189), (6, 48043), (7, 25025), (8, 48201), (9, 6019), (10, 36061)]\n"
     ]
    }
   ],
   "source": [
    "home = fips[0]\n",
    "\n",
    "i = 0 \n",
    "\n",
    "records = [home]\n",
    "\n",
    "while i < len(fips): \n",
    "    j = i + 1\n",
    "    while j < len(fips): \n",
    "        pair = (home, fips[j])\n",
    "        \n",
    "        date1, date2 = pair[0][0], pair[1][0]\n",
    "        \n",
    "        distance = 105#random.randrange(0, 105)\n",
    "            \n",
    "        if distance > 100 and date1 < date2: \n",
    "            home = fips[j]\n",
    "            records.append(home)\n",
    "            \n",
    "            \n",
    "        j += 1\n",
    "    i += 1\n",
    "    \n",
    "print records"
   ]
  },
  {
   "cell_type": "code",
   "execution_count": 91,
   "metadata": {},
   "outputs": [
    {
     "name": "stdout",
     "output_type": "stream",
     "text": [
      "[(1, 36047), (10, 36061)]\n"
     ]
    }
   ],
   "source": [
    "home = fips[0]\n",
    "records = [home]\n",
    "\n",
    "for i in range(len(fips)): \n",
    "    for j in range(i + 1, len(fips)):         \n",
    "        pair = (home, fips[j])\n",
    "        \n",
    "        date1, date2 = pair[0][0], pair[1][0]\n",
    "        \n",
    "        distance = random.randrange(105)\n",
    "            \n",
    "        if distance > 100 and date1 < date2: \n",
    "            home = fips[j]\n",
    "            records.append(home)\n",
    "print records"
   ]
  },
  {
   "cell_type": "code",
   "execution_count": 43,
   "metadata": {},
   "outputs": [
    {
     "data": {
      "text/plain": [
       "True"
      ]
     },
     "execution_count": 43,
     "metadata": {},
     "output_type": "execute_result"
    }
   ],
   "source": [
    "a == b"
   ]
  },
  {
   "cell_type": "code",
   "execution_count": 56,
   "metadata": {
    "collapsed": true
   },
   "outputs": [],
   "source": [
    "a = (1,2)"
   ]
  },
  {
   "cell_type": "code",
   "execution_count": 59,
   "metadata": {},
   "outputs": [],
   "source": [
    "b = a[::-1]"
   ]
  },
  {
   "cell_type": "code",
   "execution_count": 60,
   "metadata": {},
   "outputs": [
    {
     "name": "stdout",
     "output_type": "stream",
     "text": [
      "(2, 1)\n"
     ]
    }
   ],
   "source": [
    "print b"
   ]
  },
  {
   "cell_type": "code",
   "execution_count": 92,
   "metadata": {
    "collapsed": true
   },
   "outputs": [],
   "source": [
    "(a,b), (c,d) = (1,2), (3,4)"
   ]
  },
  {
   "cell_type": "code",
   "execution_count": 93,
   "metadata": {},
   "outputs": [
    {
     "name": "stdout",
     "output_type": "stream",
     "text": [
      "1\n",
      "2\n",
      "3\n",
      "4\n"
     ]
    }
   ],
   "source": [
    "print a\n",
    "print b\n",
    "print c\n",
    "print d"
   ]
  },
  {
   "cell_type": "code",
   "execution_count": 106,
   "metadata": {},
   "outputs": [],
   "source": [
    "a = set()\n",
    "a = set(((2,) + (3,2),))\n"
   ]
  },
  {
   "cell_type": "code",
   "execution_count": 107,
   "metadata": {
    "collapsed": true
   },
   "outputs": [],
   "source": [
    "a.add((3,) + (5,2))"
   ]
  },
  {
   "cell_type": "code",
   "execution_count": 108,
   "metadata": {},
   "outputs": [
    {
     "data": {
      "text/plain": [
       "{(2, 3, 2), (3, 5, 2)}"
      ]
     },
     "execution_count": 108,
     "metadata": {},
     "output_type": "execute_result"
    }
   ],
   "source": [
    "a"
   ]
  },
  {
   "cell_type": "code",
   "execution_count": 119,
   "metadata": {},
   "outputs": [
    {
     "name": "stdout",
     "output_type": "stream",
     "text": [
      "0\n",
      "38\n",
      "76\n",
      "77\n",
      "115\n",
      "116\n",
      "154\n"
     ]
    }
   ],
   "source": [
    "user_chunk = range(155)\n",
    "from math import ceil\n",
    "\n",
    "for i in user_chunk:\n",
    "    if int(ceil((float(i) / len(user_chunk))*100)) % 25 == 0:\n",
    "        print i"
   ]
  },
  {
   "cell_type": "code",
   "execution_count": null,
   "metadata": {
    "collapsed": true
   },
   "outputs": [],
   "source": []
  }
 ],
 "metadata": {
  "kernelspec": {
   "display_name": "Python 2",
   "language": "python",
   "name": "python2"
  },
  "language_info": {
   "codemirror_mode": {
    "name": "ipython",
    "version": 2
   },
   "file_extension": ".py",
   "mimetype": "text/x-python",
   "name": "python",
   "nbconvert_exporter": "python",
   "pygments_lexer": "ipython2",
   "version": "2.7.13"
  }
 },
 "nbformat": 4,
 "nbformat_minor": 2
}
