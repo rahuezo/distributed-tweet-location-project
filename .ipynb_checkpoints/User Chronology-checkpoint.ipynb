{
 "cells": [
  {
   "cell_type": "code",
   "execution_count": 62,
   "metadata": {},
   "outputs": [
    {
     "name": "stdout",
     "output_type": "stream",
     "text": [
      "{(29510, 48201): 21, (48043, 48201): 157, (36047, 6019): 273, (48201, 6019): 93, (48043, 6019): 272, (36047, 25025): 55, (48201, 36061): 195, (48043, 25025): 172, (29510, 6075): 268, (25025, 36061): 181, (6075, 6019): 182, (29510, 29189): 115, (36047, 6075): 277, (6075, 25025): 36, (29510, 36061): 83, (6075, 6037): 110, (36047, 6037): 285, (6037, 36061): 260, (6037, 29189): 298, (6019, 36061): 47, (6075, 48201): 223, (29189, 48201): 186, (25025, 48201): 247, (25025, 6019): 242, (6037, 48043): 80, (29510, 6037): 273, (48043, 36061): 126, (36047, 48043): 92, (36047, 36061): 55, (6075, 48043): 182, (6075, 29189): 168, (29189, 25025): 195, (36047, 29189): 272, (29189, 6019): 288, (6037, 48201): 100, (29510, 48043): 247, (6037, 25025): 168, (29510, 25025): 58, (29189, 48043): 38, (6037, 6019): 189, (29510, 6019): 177, (36047, 29510): 248, (36047, 48201): 251, (29189, 36061): 152, (6075, 36061): 129}\n"
     ]
    }
   ],
   "source": [
    "import random\n",
    "from itertools import groupby\n",
    "from operator import itemgetter\n",
    "\n",
    "fips = [36047, 29510, 6075, 6037, 29189, 48043, 25025, 48201, 6019, 36061]\n",
    "\n",
    "distances = {}\n",
    "\n",
    "for i in xrange(len(fips)): \n",
    "    for j in xrange(i + 1, len(fips)): \n",
    "        distances[(fips[i], fips[j])] = random.randrange(10, 300)\n",
    "\n",
    "print distances"
   ]
  },
  {
   "cell_type": "code",
   "execution_count": 61,
   "metadata": {},
   "outputs": [
    {
     "ename": "KeyError",
     "evalue": "(36061, 36061)",
     "output_type": "error",
     "traceback": [
      "\u001b[1;31m---------------------------------------------------------------------------\u001b[0m",
      "\u001b[1;31mKeyError\u001b[0m                                  Traceback (most recent call last)",
      "\u001b[1;32m<ipython-input-61-04195c30fcbd>\u001b[0m in \u001b[0;36m<module>\u001b[1;34m()\u001b[0m\n\u001b[0;32m     12\u001b[0m             \u001b[0mdistance\u001b[0m \u001b[1;33m=\u001b[0m \u001b[0mdistances\u001b[0m\u001b[1;33m[\u001b[0m\u001b[0mpair\u001b[0m\u001b[1;33m]\u001b[0m\u001b[1;33m\u001b[0m\u001b[0m\n\u001b[0;32m     13\u001b[0m         \u001b[1;32mexcept\u001b[0m\u001b[1;33m:\u001b[0m\u001b[1;33m\u001b[0m\u001b[0m\n\u001b[1;32m---> 14\u001b[1;33m             \u001b[0mdistance\u001b[0m \u001b[1;33m=\u001b[0m \u001b[0mdistances\u001b[0m\u001b[1;33m[\u001b[0m\u001b[0mpair\u001b[0m\u001b[1;33m[\u001b[0m\u001b[1;33m:\u001b[0m\u001b[1;33m:\u001b[0m\u001b[1;33m-\u001b[0m\u001b[1;36m1\u001b[0m\u001b[1;33m]\u001b[0m\u001b[1;33m]\u001b[0m\u001b[1;33m\u001b[0m\u001b[0m\n\u001b[0m\u001b[0;32m     15\u001b[0m \u001b[1;33m\u001b[0m\u001b[0m\n\u001b[0;32m     16\u001b[0m \u001b[1;33m\u001b[0m\u001b[0m\n",
      "\u001b[1;31mKeyError\u001b[0m: (36061, 36061)"
     ]
    }
   ],
   "source": [
    "home = fips[0]\n",
    "\n",
    "i = 0 \n",
    "\n",
    "records = []\n",
    "\n",
    "while i < len(fips): \n",
    "    j = i + 1\n",
    "    while j < len(fips): \n",
    "        pair = (home, fips[j])\n",
    "        \n",
    "            distance = distances[pair]\n",
    "#         except: \n",
    "#             distance = distances[pair[::-1]]\n",
    "            \n",
    "        \n",
    "        if distance > 100: \n",
    "            records.append(pair)\n",
    "            home = fips[j]\n",
    "            \n",
    "        j += 1\n",
    "    i += 1"
   ]
  },
  {
   "cell_type": "code",
   "execution_count": 42,
   "metadata": {},
   "outputs": [],
   "source": [
    "b = []\n",
    "for i in range(len(fips)): \n",
    "    for j in range(i + 1, len(fips)): \n",
    "        b.append((fips[i], fips[j]))"
   ]
  },
  {
   "cell_type": "code",
   "execution_count": 43,
   "metadata": {},
   "outputs": [
    {
     "data": {
      "text/plain": [
       "True"
      ]
     },
     "execution_count": 43,
     "metadata": {},
     "output_type": "execute_result"
    }
   ],
   "source": [
    "a == b"
   ]
  },
  {
   "cell_type": "code",
   "execution_count": 56,
   "metadata": {
    "collapsed": true
   },
   "outputs": [],
   "source": [
    "a = (1,2)"
   ]
  },
  {
   "cell_type": "code",
   "execution_count": 59,
   "metadata": {},
   "outputs": [],
   "source": [
    "b = a[::-1]"
   ]
  },
  {
   "cell_type": "code",
   "execution_count": 60,
   "metadata": {},
   "outputs": [
    {
     "name": "stdout",
     "output_type": "stream",
     "text": [
      "(2, 1)\n"
     ]
    }
   ],
   "source": [
    "print b"
   ]
  },
  {
   "cell_type": "code",
   "execution_count": null,
   "metadata": {
    "collapsed": true
   },
   "outputs": [],
   "source": []
  }
 ],
 "metadata": {
  "kernelspec": {
   "display_name": "Python 2",
   "language": "python",
   "name": "python2"
  },
  "language_info": {
   "codemirror_mode": {
    "name": "ipython",
    "version": 2
   },
   "file_extension": ".py",
   "mimetype": "text/x-python",
   "name": "python",
   "nbconvert_exporter": "python",
   "pygments_lexer": "ipython2",
   "version": "2.7.13"
  }
 },
 "nbformat": 4,
 "nbformat_minor": 2
}
