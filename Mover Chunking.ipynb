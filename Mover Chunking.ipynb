{
 "cells": [
  {
   "cell_type": "code",
   "execution_count": 16,
   "metadata": {
    "collapsed": true
   },
   "outputs": [],
   "source": [
    "from datetime import timedelta, datetime\n"
   ]
  },
  {
   "cell_type": "code",
   "execution_count": 101,
   "metadata": {
    "collapsed": true
   },
   "outputs": [],
   "source": [
    "class MoverMap: \n",
    "    def __init__(self, user_info, pre_days=90, post_days=30, bin_size=3): \n",
    "        self.user_info = sorted(map(lambda x: (x[0], x[1], datetime.strptime(x[2], '%Y-%m-%d')), user_info),\n",
    "                                key=lambda x: x[2])\n",
    "        self.pre_days, self.post_days, self.bin_size = pre_days, post_days, bin_size\n",
    "        \n",
    "    def get_move_pairs(self): \n",
    "        return [(self.user_info[i], self.user_info[i + 1]) for i in xrange(len(a) - 1)]\n",
    "    \n",
    "    def create_date_bins(self): \n",
    "        ndate_bins = (self.user_info[-1][-1] - self.user_info[0][-1]).days / (self.pre_days + self.post_days) + 1\n",
    "        \n",
    "        for i in ndate_bins: \n",
    "            [(chunk[0][-1] + timedelta(days=d)).date() for d in xrange(ndays)]\n",
    "        \n",
    "        \n",
    "        \n",
    "        \n",
    "    \n",
    "    def chunk_move_pairs(self): \n",
    "        move_pairs = self.get_move_pairs()\n",
    "        \n",
    "        chunks = []\n",
    "        \n",
    "        for i in xrange(len(move_pairs)): \n",
    "            chunks.append(move_pairs)\n",
    "   \n",
    "\n",
    "\n"
   ]
  },
  {
   "cell_type": "code",
   "execution_count": 102,
   "metadata": {},
   "outputs": [
    {
     "name": "stdout",
     "output_type": "stream",
     "text": [
      "16\n"
     ]
    }
   ],
   "source": [
    "dates = ['2014-03-26','2014-02-26','2019-02-26']\n",
    "a = [[1, 'a', dates[0]], [1, 'b', dates[1]], [1, 'c', dates[2]]]\n",
    "\n",
    "mm = MoverMap(a)\n",
    "mm.create_date_bins()\n",
    "# mm.get_move_pairs()"
   ]
  },
  {
   "cell_type": "code",
   "execution_count": 104,
   "metadata": {},
   "outputs": [
    {
     "name": "stdout",
     "output_type": "stream",
     "text": [
      "a b\n",
      "a c\n",
      "b c\n"
     ]
    }
   ],
   "source": [
    "a = ['a', 'b', 'c']\n",
    "\n",
    "for i in range(len(a)): \n",
    "    for j in range(i + 1, len(a)): \n",
    "        print a[i],a[j]"
   ]
  },
  {
   "cell_type": "code",
   "execution_count": 105,
   "metadata": {},
   "outputs": [
    {
     "data": {
      "text/plain": [
       "[{1, 2}, {1, 3}, {3, 5}]"
      ]
     },
     "execution_count": 105,
     "metadata": {},
     "output_type": "execute_result"
    }
   ],
   "source": [
    "a = [set(), set([1,2]), set([1,3]), set([3,5]), set()]\n",
    "\n",
    "filter(lambda x: x, a)"
   ]
  },
  {
   "cell_type": "code",
   "execution_count": 4,
   "metadata": {
    "collapsed": true
   },
   "outputs": [],
   "source": [
    "import random\n",
    "\n",
    "ranges = [(0,10), (11,23), (24, 45), (46, 101)]"
   ]
  },
  {
   "cell_type": "code",
   "execution_count": 13,
   "metadata": {
    "collapsed": true
   },
   "outputs": [],
   "source": [
    "numbers = [random.randrange(0, 100) for _ in range(10)]"
   ]
  },
  {
   "cell_type": "code",
   "execution_count": 14,
   "metadata": {},
   "outputs": [],
   "source": [
    "sorted_numbers = sorted(numbers)"
   ]
  },
  {
   "cell_type": "code",
   "execution_count": 24,
   "metadata": {},
   "outputs": [],
   "source": [
    "def in_range(value, current_range): \n",
    "    return current_range[0] <= value <= current_range[1]"
   ]
  },
  {
   "cell_type": "code",
   "execution_count": 26,
   "metadata": {
    "collapsed": true
   },
   "outputs": [],
   "source": [
    "chunks = [(crange, filter(lambda x: in_range(x,crange), numbers)) for crange in ranges]"
   ]
  },
  {
   "cell_type": "code",
   "execution_count": 27,
   "metadata": {},
   "outputs": [],
   "source": [
    "tens = filter(lambda x: in_range(x, (0,10)), numbers)"
   ]
  },
  {
   "cell_type": "code",
   "execution_count": 30,
   "metadata": {},
   "outputs": [
    {
     "data": {
      "text/plain": [
       "[((0, 10), []),\n",
       " ((11, 23), [20, 13, 15]),\n",
       " ((24, 45), []),\n",
       " ((46, 101), [51, 50, 87, 64, 86, 80, 86])]"
      ]
     },
     "execution_count": 30,
     "metadata": {},
     "output_type": "execute_result"
    }
   ],
   "source": [
    "chunks"
   ]
  },
  {
   "cell_type": "code",
   "execution_count": 29,
   "metadata": {},
   "outputs": [
    {
     "data": {
      "text/plain": [
       "[20, 51, 50, 13, 87, 64, 86, 15, 80, 86]"
      ]
     },
     "execution_count": 29,
     "metadata": {},
     "output_type": "execute_result"
    }
   ],
   "source": [
    "numbers"
   ]
  },
  {
   "cell_type": "code",
   "execution_count": null,
   "metadata": {
    "collapsed": true
   },
   "outputs": [],
   "source": []
  }
 ],
 "metadata": {
  "kernelspec": {
   "display_name": "Python 2",
   "language": "python",
   "name": "python2"
  },
  "language_info": {
   "codemirror_mode": {
    "name": "ipython",
    "version": 2
   },
   "file_extension": ".py",
   "mimetype": "text/x-python",
   "name": "python",
   "nbconvert_exporter": "python",
   "pygments_lexer": "ipython2",
   "version": "2.7.13"
  }
 },
 "nbformat": 4,
 "nbformat_minor": 2
}
